{
 "cells": [
  {
   "cell_type": "markdown",
   "metadata": {},
   "source": [
    "# Deep Symbolic Learning\n",
    "Ruchi Gupte"
   ]
  },
  {
   "cell_type": "code",
   "execution_count": 2,
   "metadata": {},
   "outputs": [],
   "source": [
    "import numpy as np\n",
    "from numpy import asarray,save,load\n",
    "from numpy.lib.stride_tricks import as_strided\n",
    "import pandas as pd\n",
    "import matplotlib.pyplot as plt\n",
    "from sklearn.cluster import MeanShift\n",
    "from sklearn.cluster import KMeans\n",
    "from sklearn.cluster import AgglomerativeClustering\n",
    "from sklearn.neighbors import NearestCentroid\n",
    "import idx2numpy\n",
    "import pickle\n",
    "from PIL import Image\n",
    "import cv2\n",
    "import json\n",
    "import math\n",
    "import glob\n",
    "import random\n",
    "import sklearn\n",
    "import time"
   ]
  },
  {
   "cell_type": "code",
   "execution_count": 3,
   "metadata": {},
   "outputs": [],
   "source": [
    "config = {\"training_image_path\"             : \"Jio_imagepath/FASHION_MNIST/train-images-idx3-ubyte\", \n",
    "          \"load_path\"                       : \"_5x5_FashMNIST_Kmeans\", \n",
    "          \"test_image_path\"                 : \"Jio_imagepath/FASHION_MNIST/t10k-images-idx3-ubyte\", \n",
    "          \"genral_path_incase_of_folder\"    : \"Jio_imagepath/New\", \n",
    "          \"dataset_format\"                  : \"ubyte\", \n",
    "          \"sampleimages\"                    : 1000, \n",
    "          \"window_size\"                     : 5, \n",
    "          \"Stride\"                          : 3, \n",
    "          \"padding\"                         : [0, 1, 0, 1], \n",
    "          \"image_size\"                      : 28, \n",
    "          \"clustering_model\"                : \"KMEANS\", \n",
    "          \"n_clusters\"                      : 150, \n",
    "          \"bandwidth\"                       : 300, \n",
    "          \"test_skip\"                       : 2, \n",
    "          \"Consistency_formula\"             : \"NPMI\", \n",
    "          \"model_load\"                      : 0, \n",
    "          \"neighbor_range\"                  : 2, }\n",
    "with open('config.json', 'w') as f:\n",
    "        json.dump(config, f)"
   ]
  },
  {
   "cell_type": "markdown",
   "metadata": {},
   "source": [
    "# Stage 0 : Read Stage\n",
    "Taking input as config.json file, take test images and load them and store them"
   ]
  },
  {
   "cell_type": "code",
   "execution_count": 11,
   "metadata": {},
   "outputs": [],
   "source": [
    "#INPUT----------------------------------\n",
    "with open('config.json', 'r') as f:\n",
    "        config = json.load(f)\n",
    "load_path=config['load_path']\n",
    "padding=config['padding'] #Padding per image incase of uneven strides\n",
    "no_of_sampleimages=config['sampleimages']\n",
    "type_dataset=config['dataset_format']  #The path and file type of dataset\n",
    "#INPUT----------------------------------"
   ]
  },
  {
   "cell_type": "code",
   "execution_count": 12,
   "metadata": {},
   "outputs": [
    {
     "name": "stdout",
     "output_type": "stream",
     "text": [
      "60000 training images and 10000 test images added\n"
     ]
    }
   ],
   "source": [
    "if type_dataset=='folder': #Incase dataset is a set of images in a folder\n",
    "    final_image_list = []\n",
    "    for img in glob.glob(config['genral_path_incase_of_folder']+'/*.jpg*'):\n",
    "        temp_image= cv2.imread(img,0)\n",
    "        final_image_list.append(temp_image)\n",
    "    #random.shuffle(final_image_list) #Incase you want to shuffle dataset\n",
    "    testdata, traindata = sklearn.model_selection.train_test_split(final_image_list, train_size=0.4, test_size=0.6)\n",
    "\n",
    "elif type_dataset=='ubyte': #In case of MNIS, images are stored in ubyte folder\n",
    "    traindata = idx2numpy.convert_from_file(config['training_image_path']) \n",
    "    testdata = idx2numpy.convert_from_file(config['test_image_path']) \n",
    "    \n",
    "else:\n",
    "    print(\"Error in Reading Images in Stage 0\")\n",
    "print(str(len(traindata))+\" training images and \"+str(len(testdata))+\" test images added\")"
   ]
  },
  {
   "cell_type": "code",
   "execution_count": 7,
   "metadata": {},
   "outputs": [
    {
     "data": {
      "text/plain": [
       "<matplotlib.image.AxesImage at 0x18b780a9f08>"
      ]
     },
     "execution_count": 7,
     "metadata": {},
     "output_type": "execute_result"
    },
    {
     "data": {
      "image/png": "[encoded data removed]",
      "text/plain": [
       "<Figure size 432x288 with 1 Axes>"
      ]
     },
     "metadata": {
      "needs_background": "light"
     },
     "output_type": "display_data"
    }
   ],
   "source": [
    "plt.imshow(testdata[9])  #show patch in dataset"
   ]
  },
  {
   "cell_type": "code",
   "execution_count": 8,
   "metadata": {},
   "outputs": [],
   "source": [
    "traindata = traindata[:no_of_sampleimages]\n",
    "testdata = testdata[:no_of_sampleimages]"
   ]
  },
  {
   "cell_type": "code",
   "execution_count": 13,
   "metadata": {},
   "outputs": [],
   "source": [
    "#Padding\n",
    "final_train_data=[0]*no_of_sampleimages #Inserting padding to each image\n",
    "for k in range(no_of_sampleimages):\n",
    "    final_train_data[k]=np.pad(traindata[k], [(padding[0], padding[1]), (padding[2], padding[3])], mode='constant', constant_values=0)\n",
    "        \n",
    "final_test_data=[0]*no_of_sampleimages  #Inserting padding to each image\n",
    "for k in range(no_of_sampleimages):\n",
    "    final_test_data[k]=np.pad(traindata[k], [(padding[0], padding[1]), (padding[2], padding[3])], mode='constant', constant_values=0)"
   ]
  },
  {
   "cell_type": "code",
   "execution_count": 14,
   "metadata": {},
   "outputs": [
    {
     "name": "stdout",
     "output_type": "stream",
     "text": [
      "Stage 0 Completed Succesfully!\n"
     ]
    }
   ],
   "source": [
    "#OUTPUT-------------------------------------------\n",
    "np.save('Array_of_training_images'+load_path+'temp.npy', final_train_data)  #Remove temp for final\n",
    "np.save('Array_of_test_images'+load_path+'temp.npy', final_test_data)\n",
    "print(\"Stage 0 Completed Succesfully!\")\n",
    "#OUTPUT-------------------------------------------"
   ]
  },
  {
   "cell_type": "markdown",
   "metadata": {},
   "source": [
    "# Stage 1 :Low Level Feature extraction\n",
    "Taking input as config.json and training data, convert data into patches and store them and store them"
   ]
  },
  {
   "cell_type": "code",
   "execution_count": 15,
   "metadata": {},
   "outputs": [],
   "source": [
    "#INPUT----------------------------------\n",
    "with open('config.json', 'r') as f:\n",
    "        config = json.load(f)\n",
    "load_path=config['load_path']\n",
    "widthi=heighti=config['image_size'] #Height and width of input image\n",
    "no_of_sampleimages=config['sampleimages']\n",
    "patch_size=config['window_size'] #Size of patches to consider\n",
    "shift=config['Stride']  #Stride for each patch\n",
    "padding=config['padding']\n",
    "data = np.load('Array_of_training_images'+load_path+'.npy')\n",
    "#INPUT----------------------------------"
   ]
  },
  {
   "cell_type": "code",
   "execution_count": 16,
   "metadata": {},
   "outputs": [],
   "source": [
    "X_im=[]\n",
    "for k in range(no_of_sampleimages):\n",
    "    patchl=0\n",
    "    patchh=0\n",
    "    image=data[k]\n",
    "    for i in range(0,heighti+padding[0]+padding[1]-(patch_size-1),shift):\n",
    "        for j in range(0,widthi+padding[2]+padding[3]-(patch_size-1),shift):\n",
    "            BLOCK=image[i:i+patch_size,j:j+patch_size]\n",
    "            X_im.append(BLOCK) \n",
    "            patchl=patchl+1\n",
    "        patchh=patchh+1\n",
    "        \n",
    "patchl=int(patchl/patchh)\n",
    "X_im = np.array(X_im)"
   ]
  },
  {
   "cell_type": "code",
   "execution_count": 17,
   "metadata": {},
   "outputs": [
    {
     "data": {
      "text/plain": [
       "81000"
      ]
     },
     "execution_count": 17,
     "metadata": {},
     "output_type": "execute_result"
    }
   ],
   "source": [
    "len(X_im)"
   ]
  },
  {
   "cell_type": "code",
   "execution_count": 20,
   "metadata": {},
   "outputs": [],
   "source": [
    "imageno=153 #Select which image in dataset\n",
    "patchno=patchl*patchh\n",
    "image=X_im[patchno*imageno:patchno*(imageno+1)]\n",
    "BLUE = [255,255,255]\n",
    "size = 100, 100\n",
    "\n",
    "new_im = Image.new('RGBA', (patchh*100, patchl*100), (255, 255, 255, 255))\n",
    "k=0\n",
    "for i in range(0,patchh*100,100):\n",
    "    for j in range(0,patchl*100,100):\n",
    "        im=cv2.copyMakeBorder(image[k],0,1,0,1,cv2.BORDER_CONSTANT,value=BLUE)\n",
    "        ima = Image.fromarray(im, 'L')\n",
    "        im = ima.resize((100,100), resample=Image.NEAREST)\n",
    "        k=k+1\n",
    "        new_im.paste(im, (j,i))\n",
    "               \n",
    "new_im.show()"
   ]
  },
  {
   "cell_type": "code",
   "execution_count": 21,
   "metadata": {},
   "outputs": [
    {
     "name": "stdout",
     "output_type": "stream",
     "text": [
      "Stage 1 Completed Succesfully!\n"
     ]
    }
   ],
   "source": [
    "#OUTPUT-------------------------------------------\n",
    "config.update( {'patchl' : patchl, # Adding patch length to config\n",
    "                'patchh' : patchh} ) #Adding patch height to config\n",
    "with open('config.json', 'w') as f:\n",
    "        json.dump(config, f)\n",
    "np.save('patchlist'+load_path+'temp.npy', X_im) #Remove temp for final\n",
    "print(\"Stage 1 Completed Succesfully!\")\n",
    "#OUTPUT-------------------------------------------"
   ]
  },
  {
   "cell_type": "markdown",
   "metadata": {},
   "source": [
    "# Stage 2: Symbolic ID Creation\n",
    "Taking input as config.json and data of image patches, perform clustering on them and gather data like centroids, distances and assign each patch to a appropriate cluster."
   ]
  },
  {
   "cell_type": "code",
   "execution_count": 22,
   "metadata": {},
   "outputs": [],
   "source": [
    "#INPUT----------------------------------\n",
    "with open('config.json', 'r') as f:\n",
    "        config = json.load(f)\n",
    "load_path=config['load_path']\n",
    "patchlist = np.load('patchlist'+load_path+'.npy')\n",
    "patch_size=config['window_size']\n",
    "#INPUT---------------------------------"
   ]
  },
  {
   "cell_type": "code",
   "execution_count": 24,
   "metadata": {},
   "outputs": [],
   "source": [
    "stage2_load_condition=1   # 1 to load from pre existing model and 0 for new training"
   ]
  },
  {
   "cell_type": "code",
   "execution_count": 26,
   "metadata": {},
   "outputs": [
    {
     "name": "stdout",
     "output_type": "stream",
     "text": [
      "Loading model from file....\n",
      "Loaded\n"
     ]
    }
   ],
   "source": [
    "if stage2_load_condition==1:\n",
    "    print(\"Loading model from file....\")\n",
    "    model = pickle.load(open('model'+load_path+'.sav', 'rb'))\n",
    "    n_clusters=config['n_clusters']\n",
    "    labels=model.labels_\n",
    "    centroids = model.cluster_centers_\n",
    "    print(\"Loaded\")\n",
    "        \n",
    "else:\n",
    "    if config['clustering_model']=='KMEANS':\n",
    "        time_start = time.time()\n",
    "        n_clusters=config['n_clusters']\n",
    "        model = KMeans(n_clusters=n_clusters, n_init=10, max_iter=300, tol=1e-4, verbose=0, random_state=None, copy_x=True, algorithm=\"auto\")\n",
    "        model=model.fit(patchlist.reshape(len(patchlist),-1))\n",
    "        labels=model.labels_\n",
    "        centroids = model.cluster_centers_\n",
    "        print(\"Kmeans Done. Time elapsed: {} minutes\".format((time.time()-time_start)/60))\n",
    "        print(time.time()-time_start)\n",
    "        \n",
    "    elif config['clustering_model']=='MEANSHIFT':\n",
    "        time_start = time.time()\n",
    "        bandwidth=config['bandwidth']\n",
    "        model = MeanShift(bandwidth=bandwidth, bin_seeding=False, cluster_all=True, min_bin_freq=1, n_jobs=1, seeds= None)\n",
    "        model=model.fit(patchlist.reshape(len(patchlist),-1))\n",
    "        labels = model.labels_\n",
    "        centroids = model.cluster_centers_\n",
    "        labels_unique = np.unique(labels)\n",
    "        n_clusters = len(labels_unique)\n",
    "        config.update( {'n_clusters' : n_clusters} )\n",
    "        print (\"MeanShift Done. Time elapsed: {} minutes\".format((time.time()-time_start)/60))\n",
    "        print(time.time()-time_start)"
   ]
  },
  {
   "cell_type": "code",
   "execution_count": 27,
   "metadata": {},
   "outputs": [
    {
     "data": {
      "text/plain": [
       "{'algorithm': 'auto',\n",
       " 'copy_x': True,\n",
       " 'init': 'k-means++',\n",
       " 'max_iter': 300,\n",
       " 'n_clusters': 150,\n",
       " 'n_init': 10,\n",
       " 'n_jobs': 'deprecated',\n",
       " 'precompute_distances': 'deprecated',\n",
       " 'random_state': None,\n",
       " 'tol': 0.0001,\n",
       " 'verbose': 0}"
      ]
     },
     "execution_count": 27,
     "metadata": {},
     "output_type": "execute_result"
    }
   ],
   "source": [
    "model.get_params() "
   ]
  },
  {
   "cell_type": "code",
   "execution_count": 73,
   "metadata": {},
   "outputs": [],
   "source": [
    "def Sort(sub_li): \n",
    "    sub_li.sort(key = lambda x: x[1]) \n",
    "    return sub_li "
   ]
  },
  {
   "cell_type": "code",
   "execution_count": 74,
   "metadata": {},
   "outputs": [],
   "source": [
    "k=0\n",
    "clusterdata=[]\n",
    "for clus in range(n_clusters):\n",
    "    for i in patchlist[np.where(labels==clus)]:\n",
    "        k=k+1\n",
    "    temp=[clus+1,k]\n",
    "    clusterdata.append(temp)   \n",
    "    k=0 #comment to check cumulative density \n",
    "clusterdata=Sort(clusterdata)"
   ]
  },
  {
   "cell_type": "code",
   "execution_count": 28,
   "metadata": {},
   "outputs": [],
   "source": [
    "#for i in range(n_clusters, 0, -1):\n",
    "    #print(clusterdata[i-1][0],'   :  ', clusterdata[i-1][1])"
   ]
  },
  {
   "cell_type": "code",
   "execution_count": 76,
   "metadata": {},
   "outputs": [],
   "source": [
    "temp=[]\n",
    "clustack=[]\n",
    "for clus in range(n_clusters):\n",
    "    for i in patchlist[np.where(labels==clus)]:\n",
    "        temp.append(i)\n",
    "    clustack.append(np.array(temp))\n",
    "    temp=[]\n",
    "clustack=np.array(clustack)"
   ]
  },
  {
   "cell_type": "code",
   "execution_count": 77,
   "metadata": {},
   "outputs": [],
   "source": [
    "dist=[]\n",
    "for Clusterno in range(n_clusters):\n",
    "    temp=[]\n",
    "    Cent=centroids[Clusterno].reshape(patch_size,patch_size)\n",
    "    k=0\n",
    "    for m in clustack[Clusterno]:\n",
    "        distance = np.linalg.norm(m-Cent)\n",
    "        distance=[int(k),int(distance)]\n",
    "        temp.append(distance)\n",
    "        k=k+1\n",
    "    dist.append(temp)\n",
    "for clus in range(n_clusters):\n",
    "    dist[clus]=np.array(Sort(dist[clus]))"
   ]
  },
  {
   "cell_type": "code",
   "execution_count": 85,
   "metadata": {},
   "outputs": [],
   "source": [
    "cluster_no=18 # cluster number\n",
    "\n",
    "Rows=10  #how many rows and columns in collage\n",
    "Columns=10\n",
    "Background_white = [255,255,255]\n",
    "final_collage = Image.new('RGBA', (1000, 1000), (255, 255,255))\n",
    "k=0\n",
    "\n",
    "for i in range(0,Columns*100,100):\n",
    "    for j in range(0,Rows*100,100):\n",
    "        temp_image=cv2.copyMakeBorder(clustack[cluster_no-1][int(dist[cluster_no-1][k][0])],0,1,0,1,cv2.BORDER_CONSTANT,value=Background_white)\n",
    "        temp_image = Image.fromarray(temp_image, 'L')\n",
    "        temp_image = temp_image.resize((100,100), resample=Image.NEAREST)\n",
    "        k=k+1\n",
    "        final_collage.paste(temp_image, (j,i))\n",
    "\n",
    "final_collage.show()"
   ]
  },
  {
   "cell_type": "code",
   "execution_count": 22,
   "metadata": {},
   "outputs": [],
   "source": [
    "#OUTPUT------------------------ Remove temp for final-------------\n",
    "np.save('cluster_density'+load_path+'temp.npy', clusterdata)\n",
    "np.save('patch_with_clusters'+load_path+'temp.npy', clustack)\n",
    "np.save('distance_info_for_clusters'+load_path+'temp.npy', dist)\n",
    "pickle.dump(model, open('model'+load_path+'temp.sav', 'wb'))\n",
    "print(\"Stage 2 Completed Succesfully!\")\n",
    "#OUTPUT-----------------------------------------------------------"
   ]
  },
  {
   "cell_type": "markdown",
   "metadata": {},
   "source": [
    "# Stage 3 : Symbolic ID Assignment\n",
    "Taking input as config.json, model, its parameters, and test data, convert them to a symbolic matrix using the model from the training images."
   ]
  },
  {
   "cell_type": "code",
   "execution_count": 31,
   "metadata": {},
   "outputs": [],
   "source": [
    "#INPUT----------------------------------------------------\n",
    "with open('config.json', 'r') as f:\n",
    "        config = json.load(f)\n",
    "load_path=config['load_path']\n",
    "model = pickle.load(open('model'+load_path+'.sav', 'rb'))\n",
    "test_data=np.load('Array_of_test_images'+load_path+'.npy',allow_pickle = True )\n",
    "#INPUT-----------------------------------------------------"
   ]
  },
  {
   "cell_type": "code",
   "execution_count": 32,
   "metadata": {},
   "outputs": [],
   "source": [
    "centroids = model.cluster_centers_\n",
    "no_of_sampleimages=config['sampleimages']\n",
    "widthi=heighti=config['image_size']\n",
    "padding=config['padding']\n",
    "patch_size=config['window_size']\n",
    "shift=config['Stride']\n",
    "patchl=config['patchl']\n",
    "patchh=config['patchh']"
   ]
  },
  {
   "cell_type": "code",
   "execution_count": 33,
   "metadata": {},
   "outputs": [],
   "source": [
    "stage3_load_condition=1 # 1 to load from pre existing model and 0 for new training"
   ]
  },
  {
   "cell_type": "code",
   "execution_count": 34,
   "metadata": {},
   "outputs": [
    {
     "name": "stdout",
     "output_type": "stream",
     "text": [
      "Loading existing symbolic list....\n",
      "Loaded\n"
     ]
    }
   ],
   "source": [
    "if stage3_load_condition==1:\n",
    "    print(\"Loading existing symbolic list....\")\n",
    "    test_symboliclist=np.load('testdata_symboliclist'+load_path+'.npy')\n",
    "    print(\"Loaded\")\n",
    "    \n",
    "else:\n",
    "    test_symboliclist=[]\n",
    "    time_start = time.time()\n",
    "    for testno in range(no_of_sampleimages):\n",
    "        X_reconstructed=[]\n",
    "        print(testno)\n",
    "        image=test_data[testno]  #to select an image number\n",
    "        for i in range(0,heighti+padding[0]+padding[1]-(patch_size-1),shift):\n",
    "            for j in range(0,widthi+padding[2]+padding[3]-(patch_size-1),shift):\n",
    "                BLOCK=image[i:i+patch_size,j:j+patch_size]\n",
    "                v=model.predict(BLOCK.reshape(1, -1))\n",
    "                X_reconstructed.append(v[0]+1)\n",
    "        test_symboliclist.append(X_reconstructed)\n",
    "    print(\"Symbolic List Created. Time elapsed: {} minutes\".format((time.time()-time_start)/60))"
   ]
  },
  {
   "cell_type": "code",
   "execution_count": 35,
   "metadata": {},
   "outputs": [],
   "source": [
    "for testno in range(no_of_sampleimages):\n",
    "    test_symboliclist[testno]=np.array(test_symboliclist[testno])\n",
    "    test_symboliclist[testno]=test_symboliclist[testno].reshape(patchl,patchh)"
   ]
  },
  {
   "cell_type": "code",
   "execution_count": 36,
   "metadata": {},
   "outputs": [
    {
     "data": {
      "text/plain": [
       "array([[  2,  73, 110,  26,  26, 129,  88,  37, 107],\n",
       "       [ 71,  46, 103,   3,   3,   3, 108,  13,  54],\n",
       "       [111, 119,  60, 135, 135, 135, 145,  60, 148],\n",
       "       [139,  96, 108, 129,  26,  26, 136,  96, 126],\n",
       "       [  2,   2,  43,  18,  18,  18, 121,  89,   2],\n",
       "       [  2,   2,  43,  18,  18,  18, 121,  89,   2],\n",
       "       [  2,   2,  43,  18,  18,  18, 121,  89,   2],\n",
       "       [  2,   2,  43,  18,  18,  18, 121,  89,   2],\n",
       "       [  2,   2,  31,   6,   6,   6,  28,  16,   2]])"
      ]
     },
     "execution_count": 36,
     "metadata": {},
     "output_type": "execute_result"
    }
   ],
   "source": [
    "test_symboliclist[1]"
   ]
  },
  {
   "cell_type": "code",
   "execution_count": 37,
   "metadata": {},
   "outputs": [],
   "source": [
    "X_reconstructed=test_symboliclist[6].reshape(patchl*patchh,)\n",
    "\n",
    "Background_white = [255,255,255]\n",
    "\n",
    "final_image = Image.new('RGBA', (1000, 1000), (255, 255, 255, 255))\n",
    "\n",
    "k=0\n",
    "for i in range(0,patchh*100,100):\n",
    "    for j in range(0,patchl*100,100):\n",
    "        Centroid=centroids[X_reconstructed[k]-1].reshape(patch_size,patch_size)\n",
    "        temp_image=cv2.copyMakeBorder(Centroid,0,1,0,1,cv2.BORDER_CONSTANT,value=Background_white)\n",
    "        temp_image = Image.fromarray(temp_image)\n",
    "        temp_image = temp_image.resize((100,100), resample=Image.NEAREST)\n",
    "        k=k+1\n",
    "        final_image.paste(temp_image, (j,i))\n",
    "               \n",
    "final_image.show()"
   ]
  },
  {
   "cell_type": "code",
   "execution_count": 37,
   "metadata": {},
   "outputs": [],
   "source": [
    "#OUTPUT-----------------------------Remove temp for final---------------\n",
    "np.save('testdata_symboliclist'+load_path+'temp.npy', test_symboliclist)\n",
    "print(\"Stage 3 Completed Succesfully!\")\n",
    "#OUTPUT-----------------------------------------------------------------"
   ]
  },
  {
   "cell_type": "markdown",
   "metadata": {},
   "source": [
    "# Stage 4: Hardcoding directional matrix\n",
    "Since the position of matrix elements remains same across same size images, obtain directional matrix values of each element wrt all other elements in that matrix. Input as config.json."
   ]
  },
  {
   "cell_type": "code",
   "execution_count": 38,
   "metadata": {},
   "outputs": [],
   "source": [
    "#INPUT-----------------------------------------\n",
    "with open('config.json', 'r') as f:\n",
    "        config = json.load(f)\n",
    "load_path=config['load_path']\n",
    "model = pickle.load(open('model'+load_path+'.sav', 'rb'))\n",
    "no_of_sampleimages=config['sampleimages']\n",
    "test_skip=config[\"test_skip\"]\n",
    "symbolic_list=np.load('testdata_symboliclist'+load_path+'.npy')\n",
    "patchlength=config['patchl']\n",
    "patchheight=config['patchh']\n",
    "patch_size=config['window_size']\n",
    "neighbor_range=config['neighbor_range']\n",
    "centroids = model.cluster_centers_\n",
    "#INPUT-----------------------------------------"
   ]
  },
  {
   "cell_type": "code",
   "execution_count": 39,
   "metadata": {},
   "outputs": [],
   "source": [
    "def cos2(x): \n",
    "    ans=math.cos(x)*math.cos(x)\n",
    "    return ans\n",
    "\n",
    "def sin2(x): \n",
    "    ans=math.sin(x)*math.sin(x)\n",
    "    return ans\n",
    "\n",
    "def sliding_window(arr, window_size):\n",
    "    \"\"\" Construct a sliding window view of the array\"\"\"\n",
    "    arr = np.asarray(arr)\n",
    "    window_size = int(window_size)\n",
    "    if arr.ndim != 2:\n",
    "        raise ValueError(\"need 2-D input\")\n",
    "    if not (window_size > 0):\n",
    "        raise ValueError(\"need a positive window size\")\n",
    "    shape = (arr.shape[0] - window_size + 1,\n",
    "             arr.shape[1] - window_size + 1,\n",
    "             window_size, window_size)\n",
    "    if shape[0] <= 0:\n",
    "        shape = (1, shape[1], arr.shape[0], shape[3])\n",
    "    if shape[1] <= 0:\n",
    "        shape = (shape[0], 1, shape[2], arr.shape[1])\n",
    "    strides = (arr.shape[1]*arr.itemsize, arr.itemsize,\n",
    "               arr.shape[1]*arr.itemsize, arr.itemsize)\n",
    "    return as_strided(arr, shape=shape, strides=strides)\n",
    "\n",
    "def cell_neighbors(arr, i, j, d):\n",
    "    \"\"\"Return d-th neighbors of cell (i, j)\"\"\"\n",
    "    w = sliding_window(arr, 2*d+1)\n",
    "\n",
    "    ix = np.clip(i - d, 0, w.shape[0]-1)\n",
    "    jx = np.clip(j - d, 0, w.shape[1]-1)\n",
    "\n",
    "    i0 = max(0, i - d - ix)\n",
    "    j0 = max(0, j - d - jx)\n",
    "    i1 = w.shape[2] - max(0, d - i + ix)\n",
    "    j1 = w.shape[3] - max(0, d - j + jx)\n",
    "\n",
    "    return w[ix, jx][i0:i1,j0:j1].ravel()"
   ]
  },
  {
   "cell_type": "code",
   "execution_count": 40,
   "metadata": {},
   "outputs": [
    {
     "data": {
      "text/plain": [
       "array([[  2,  73, 110,  26,  26, 129,  88,  37, 107],\n",
       "       [ 71,  46, 103,   3,   3,   3, 108,  13,  54],\n",
       "       [111, 119,  60, 135, 135, 135, 145,  60, 148],\n",
       "       [139,  96, 108, 129,  26,  26, 136,  96, 126],\n",
       "       [  2,   2,  43,  18,  18,  18, 121,  89,   2],\n",
       "       [  2,   2,  43,  18,  18,  18, 121,  89,   2],\n",
       "       [  2,   2,  43,  18,  18,  18, 121,  89,   2],\n",
       "       [  2,   2,  43,  18,  18,  18, 121,  89,   2],\n",
       "       [  2,   2,  31,   6,   6,   6,  28,  16,   2]])"
      ]
     },
     "execution_count": 40,
     "metadata": {},
     "output_type": "execute_result"
    }
   ],
   "source": [
    "symbolic_list[1]"
   ]
  },
  {
   "cell_type": "code",
   "execution_count": 41,
   "metadata": {},
   "outputs": [
    {
     "data": {
      "text/plain": [
       "array([[  2, 110,  26,  88, 107],\n",
       "       [111,  60, 135, 145, 148],\n",
       "       [  2,  43,  18, 121,   2],\n",
       "       [  2,  43,  18, 121,   2],\n",
       "       [  2,  31,   6,  28,   2]])"
      ]
     },
     "execution_count": 41,
     "metadata": {},
     "output_type": "execute_result"
    }
   ],
   "source": [
    "test_images=[]\n",
    "image=[]\n",
    "for num in range(no_of_sampleimages):\n",
    "    image=symbolic_list[num]\n",
    "    patchl=0\n",
    "    patchh=0\n",
    "    temp=[]\n",
    "    for i in range(0,patchheight,test_skip):\n",
    "        for j in range(0,patchlength,test_skip):\n",
    "            temp.append(image[i][j])\n",
    "            patchl=patchl+1\n",
    "        patchh=patchh+1\n",
    "    \n",
    "    patchl=int(patchl/patchh)\n",
    "    temp=np.array(temp)\n",
    "    temp=temp.reshape(patchh,patchl)\n",
    "    test_images.append(temp)\n",
    "test_images[1]"
   ]
  },
  {
   "cell_type": "code",
   "execution_count": 42,
   "metadata": {},
   "outputs": [],
   "source": [
    "X_reconstructed=test_images[1].reshape(patchl*patchh,)\n",
    "#X_reconstructed=test_images[1].reshape(patchl*patchh,)\n",
    "Background_white = [255,255,255]\n",
    "\n",
    "final_image = Image.new('RGBA', (1000, 1000), (255, 255, 255, 255))\n",
    "\n",
    "k=0\n",
    "for i in range(0,patchh*100,100):\n",
    "    for j in range(0,patchl*100,100):\n",
    "        Centroid=centroids[X_reconstructed[k]-1].reshape(patch_size,patch_size)\n",
    "        temp_image=cv2.copyMakeBorder(Centroid,0,0,0,0,cv2.BORDER_CONSTANT,value=Background_white)\n",
    "        temp_image = Image.fromarray(temp_image)\n",
    "        temp_image = temp_image.resize((100,100), resample=Image.NEAREST)\n",
    "        k=k+1\n",
    "        final_image.paste(temp_image, (j,i))\n",
    "               \n",
    "final_image.show()"
   ]
  },
  {
   "cell_type": "code",
   "execution_count": 43,
   "metadata": {},
   "outputs": [
    {
     "data": {
      "text/plain": [
       "array([[ 0,  1,  2,  3,  4],\n",
       "       [ 5,  6,  7,  8,  9],\n",
       "       [10, 11, 12, 13, 14],\n",
       "       [15, 16, 17, 18, 19],\n",
       "       [20, 21, 22, 23, 24]])"
      ]
     },
     "execution_count": 43,
     "metadata": {},
     "output_type": "execute_result"
    }
   ],
   "source": [
    "arrayorder=[]\n",
    "k=0\n",
    "for y2 in range(patchh):\n",
    "    for x2 in range(patchl):\n",
    "        arrayorder.append(k)\n",
    "        k=k+1\n",
    "arrayorder=np.array(arrayorder)\n",
    "arrayorder=arrayorder.reshape(patchh,patchl)\n",
    "arrayorder"
   ]
  },
  {
   "cell_type": "code",
   "execution_count": 44,
   "metadata": {},
   "outputs": [],
   "source": [
    "#make patchh,patchl 5 if we change the dimension of input matrix\n",
    "weights=[]\n",
    "for y1 in range(patchh):\n",
    "    for x1 in range(patchl):\n",
    "        temp=[]\n",
    "        for y2 in range(patchh):\n",
    "            for x2 in range(patchl):\n",
    "                if y2>y1 and x1==x2:\n",
    "                    x=90 #pure north\n",
    "                elif y2<y1 and x1==x2:\n",
    "                    x=-90 #pure south\n",
    "                elif y2==y1 and x2==x1:\n",
    "                    x=0\n",
    "                elif x1>x2 and y1==y2:\n",
    "                    x=404   #pure west\n",
    "                elif x2>x1 and y1==y2:\n",
    "                    x=303  #pure east\n",
    "                else:\n",
    "                    slope = ((y2-y1)/(x2-x1))\n",
    "                    x=math.atan(slope)\n",
    "                temp.append([int(x1),int(y1),int(x2),int(y2),x])\n",
    "        weights.append(temp)\n",
    "#getting angles for each element[point1,point2==>angle]"
   ]
  },
  {
   "cell_type": "code",
   "execution_count": 45,
   "metadata": {
    "scrolled": true
   },
   "outputs": [],
   "source": [
    "values=[]\n",
    "l=0\n",
    "for y1 in range(patchh):\n",
    "    for x1 in range(patchl):\n",
    "        k=0\n",
    "        element=[]\n",
    "        for y2 in range(patchh):\n",
    "            for x2 in range(patchl):\n",
    "                angle=weights[l][k][4] #radians\n",
    "                if angle==90:\n",
    "                    ans=[1,0,0,0] #north\n",
    "                elif angle==-90:\n",
    "                    ans=[0,1,0,0] #south\n",
    "                elif angle==404:\n",
    "                    ans=[0,0,1,0] #east\n",
    "                elif angle==303:\n",
    "                    ans=[0,0,0,1] #west\n",
    "                elif x1==x2 and y1==y2:\n",
    "                    ans=[0,0,0,0] #samepoint       \n",
    "                elif x1>x2 and y1>y2:\n",
    "                    ans=[0,sin2(angle),0,cos2(angle)] #southwest\n",
    "                elif x1>x2 and y1<y2:\n",
    "                    ans=[sin2(angle),0,0,cos2(angle)] #northwest\n",
    "                elif x1<x2 and y1>y2:\n",
    "                    ans=[0,sin2(angle),cos2(angle),0] #southeast\n",
    "                elif x1<x2 and y1<y2:\n",
    "                    ans=[sin2(angle),0,cos2(angle),0] #northeast\n",
    "                else:\n",
    "                    ans=4040404 #error\n",
    "                element.append([x1,y1,x2,y2,ans]) #all relations for one point\n",
    "                k=k+1 #increment to next point\n",
    "        #print(4040404 in element[4])\n",
    "        values.append(element)  \n",
    "        l=l+1 #increment to next pivot point"
   ]
  },
  {
   "cell_type": "code",
   "execution_count": 46,
   "metadata": {},
   "outputs": [
    {
     "data": {
      "text/plain": [
       "[[1, 0, 0, 0, [0, 0, 1, 0]],\n",
       " [1, 0, 1, 0, [0, 0, 0, 0]],\n",
       " [1, 0, 2, 0, [0, 0, 0, 1]],\n",
       " [1, 0, 3, 0, [0, 0, 0, 1]],\n",
       " [1, 0, 4, 0, [0, 0, 0, 1]],\n",
       " [1, 0, 0, 1, [0.5000000000000001, 0, 0, 0.5000000000000001]],\n",
       " [1, 0, 1, 1, [1, 0, 0, 0]],\n",
       " [1, 0, 2, 1, [0.5000000000000001, 0, 0.5000000000000001, 0]],\n",
       " [1, 0, 3, 1, [0.19999999999999998, 0, 0.7999999999999999, 0]],\n",
       " [1, 0, 4, 1, [0.1, 0, 0.8999999999999999, 0]],\n",
       " [1, 0, 0, 2, [0.7999999999999999, 0, 0, 0.2000000000000001]],\n",
       " [1, 0, 1, 2, [1, 0, 0, 0]],\n",
       " [1, 0, 2, 2, [0.7999999999999999, 0, 0.2000000000000001, 0]],\n",
       " [1, 0, 3, 2, [0.5000000000000001, 0, 0.5000000000000001, 0]],\n",
       " [1, 0, 4, 2, [0.3076923076923076, 0, 0.6923076923076924, 0]],\n",
       " [1, 0, 0, 3, [0.8999999999999999, 0, 0, 0.1]],\n",
       " [1, 0, 1, 3, [1, 0, 0, 0]],\n",
       " [1, 0, 2, 3, [0.8999999999999999, 0, 0.1, 0]],\n",
       " [1, 0, 3, 3, [0.6923076923076922, 0, 0.3076923076923077, 0]],\n",
       " [1, 0, 4, 3, [0.5000000000000001, 0, 0.5000000000000001, 0]],\n",
       " [1, 0, 0, 4, [0.9411764705882353, 0, 0, 0.05882352941176466]],\n",
       " [1, 0, 1, 4, [1, 0, 0, 0]],\n",
       " [1, 0, 2, 4, [0.9411764705882353, 0, 0.05882352941176466, 0]],\n",
       " [1, 0, 3, 4, [0.7999999999999999, 0, 0.2000000000000001, 0]],\n",
       " [1, 0, 4, 4, [0.6399999999999999, 0, 0.3600000000000001, 0]]]"
      ]
     },
     "execution_count": 46,
     "metadata": {},
     "output_type": "execute_result"
    }
   ],
   "source": [
    "values[1]#x1,y1,x2,y2,directionalmatrix for those 2 positions"
   ]
  },
  {
   "cell_type": "code",
   "execution_count": 49,
   "metadata": {},
   "outputs": [],
   "source": [
    "if neighbor_range!=\"NA\":\n",
    "    final=[]\n",
    "    c=0\n",
    "    for y1 in range(patchh):\n",
    "        for x1 in range(patchl):\n",
    "            ans=cell_neighbors(arrayorder,y1,x1,neighbor_range)\n",
    "            standby=[]\n",
    "            for i in range(len(ans)):\n",
    "                standby.append(values[c][ans[i]])\n",
    "            final.append(standby) #final gives only those points within neighbor distance\n",
    "            c=c+1\n",
    "else:\n",
    "    final=values"
   ]
  },
  {
   "cell_type": "code",
   "execution_count": 52,
   "metadata": {},
   "outputs": [
    {
     "name": "stdout",
     "output_type": "stream",
     "text": [
      "Stage 4 Completed Succesfully!\n"
     ]
    }
   ],
   "source": [
    "#OUTPUT---------------------------------------Remove temp for final---------------\n",
    "np.save('AllHardcoded_directionalmatrix'+load_path+'temp.npy', values)\n",
    "np.save('New_symbolic_list'+load_path+'temp.npy', test_images)\n",
    "np.save('Selected_Hardcoded_directionalmatrix'+load_path+'temp.npy', final)\n",
    "config.update( {'stage4_patchl' : patchl,\n",
    "                'stage4_patchh' : patchh} )\n",
    "with open('config.json', 'w') as f:\n",
    "        json.dump(config, f)\n",
    "print(\"Stage 4 Completed Succesfully!\")\n",
    "#OUTPUT---------------------------------------------------------------------------"
   ]
  },
  {
   "cell_type": "markdown",
   "metadata": {},
   "source": [
    "# Stage 5: Patch to Patch Co-Occurence"
   ]
  },
  {
   "cell_type": "code",
   "execution_count": 53,
   "metadata": {},
   "outputs": [],
   "source": [
    "#INPUT------------------------------------------------------------------------\n",
    "with open('config.json', 'r') as f:\n",
    "        config = json.load(f)\n",
    "load_path=config['load_path']\n",
    "new_symbolic_list=np.load('New_symbolic_list'+load_path+'.npy')\n",
    "final=np.load('Selected_Hardcoded_directionalmatrix'+load_path+'.npy',allow_pickle = True )\n",
    "formula=config['Consistency_formula']\n",
    "#INPUT------------------------------------------------------------------------"
   ]
  },
  {
   "cell_type": "code",
   "execution_count": 54,
   "metadata": {},
   "outputs": [
    {
     "name": "stdout",
     "output_type": "stream",
     "text": [
      "Co Occurrence Tables Created. Time elapsed: 3.1014020442962646 seconds\n"
     ]
    }
   ],
   "source": [
    "time_start = time.time()\n",
    "north_table = []\n",
    "south_table=[]\n",
    "east_table=[]\n",
    "west_table=[]\n",
    "for num in range(1000):\n",
    "    trial=new_symbolic_list[num]\n",
    "    for poi in range(len(final)):\n",
    "        for ele in range(len(final[poi])):\n",
    "            data=final[poi][ele]\n",
    "            a_id=trial[data[1]][data[0]]\n",
    "            b_id=trial[data[3]][data[2]]\n",
    "            dictionary_data_north = {'a_id': a_id, 'b_id' : b_id, 'count_north': data[4][0]}\n",
    "            dictionary_data_south= {'a_id': a_id, 'b_id' : b_id, 'count_south': data[4][1]}\n",
    "            dictionary_data_east= {'a_id': a_id, 'b_id' : b_id, 'count_east': data[4][2]}\n",
    "            dictionary_data_west= {'a_id': a_id, 'b_id' : b_id, 'count_west': data[4][3]}          \n",
    "            north_table.append(dictionary_data_north)\n",
    "            south_table.append(dictionary_data_south)\n",
    "            east_table.append(dictionary_data_east)\n",
    "            west_table.append(dictionary_data_west)\n",
    "                \n",
    "north_table = pd.DataFrame.from_dict(north_table)\n",
    "north_table = north_table[(north_table[['count_north']] != 0).all(axis=1)]\n",
    "north_table = pd.pivot_table(north_table, values='count_north', index=['a_id', 'b_id'], aggfunc=np.sum)\n",
    "north_table = north_table.sort_values(('count_north'), ascending=False)\n",
    "\n",
    "south_table = pd.DataFrame.from_dict(south_table)\n",
    "south_table = south_table[(south_table[['count_south']] != 0).all(axis=1)]\n",
    "south_table = pd.pivot_table(south_table, values='count_south', index=['a_id', 'b_id'],aggfunc=np.sum)\n",
    "south_table = south_table.sort_values(('count_south'), ascending=False)\n",
    "\n",
    "east_table = pd.DataFrame.from_dict(east_table)\n",
    "east_table = east_table[(east_table[['count_east']] != 0).all(axis=1)]\n",
    "east_table = pd.pivot_table(east_table, values='count_east', index=['a_id', 'b_id'], aggfunc=np.sum)\n",
    "east_table = east_table.sort_values(('count_east'), ascending=False)\n",
    "\n",
    "west_table = pd.DataFrame.from_dict(west_table)\n",
    "west_table = west_table[(west_table[['count_west']] != 0).all(axis=1)]\n",
    "west_table = pd.pivot_table(west_table, values='count_west', index=['a_id', 'b_id'], aggfunc=np.sum)\n",
    "west_table = west_table.sort_values(('count_west'), ascending=False)\n",
    "\n",
    "print(\"Co Occurrence Tables Created. Time elapsed: {} seconds\".format(time.time()-time_start))"
   ]
  },
  {
   "cell_type": "code",
   "execution_count": 55,
   "metadata": {},
   "outputs": [],
   "source": [
    "north_table.to_csv('north_table1.csv') #Remove 2 for orignal\n",
    "south_table.to_csv('south_table1.csv') \n",
    "east_table.to_csv('east_table1.csv') \n",
    "west_table.to_csv('west_table1.csv') \n",
    "\n",
    "north_table = pd.read_csv(\"north_table1.csv\") \n",
    "south_table = pd.read_csv(\"south_table1.csv\") \n",
    "east_table = pd.read_csv(\"east_table1.csv\") \n",
    "west_table = pd.read_csv(\"west_table1.csv\") "
   ]
  },
  {
   "cell_type": "markdown",
   "metadata": {},
   "source": [
    "Using NPMI Formula: "
   ]
  },
  {
   "cell_type": "code",
   "execution_count": 56,
   "metadata": {},
   "outputs": [
    {
     "name": "stdout",
     "output_type": "stream",
     "text": [
      "Consistencies Added. Time elapsed: 132.7533130645752 seconds\n"
     ]
    }
   ],
   "source": [
    "if formula=='NPMI':\n",
    "    time_start = time.time()\n",
    "    north_table['north_consistency'] = 0 \n",
    "    total_count_north = north_table['count_north'].sum()\n",
    "    for i, j in north_table.iterrows(): \n",
    "        cooc_probability= north_table.loc[(north_table['a_id'] == j[0]) & (north_table['b_id'] == j[1]),'count_north'].sum() / total_count_north\n",
    "        marginal_a_id_probability= north_table.loc[north_table['a_id'] == j[0], 'count_north'].sum() / total_count_north\n",
    "        marginal_b_id_probability= north_table.loc[north_table['b_id'] == j[1], 'count_north'].sum() /total_count_north\n",
    "        consistency_north=float(np.log2(cooc_probability / (marginal_a_id_probability * marginal_b_id_probability))/np.log2(1 / cooc_probability))\n",
    "        north_table.loc[(north_table['a_id'] == j[0]) & (north_table['b_id'] == j[1]), 'north_consistency'] = consistency_north\n",
    "\n",
    "    south_table['south_consistency'] = 0 \n",
    "    total_count_south = south_table['count_south'].sum()\n",
    "    for i, j in south_table.iterrows(): \n",
    "        cooc_probability= south_table.loc[(south_table['a_id'] == j[0]) & (south_table['b_id'] == j[1]),'count_south'].sum() / total_count_south\n",
    "        marginal_a_id_probability= south_table.loc[south_table['a_id'] == j[0], 'count_south'].sum() / total_count_south\n",
    "        marginal_b_id_probability= south_table.loc[south_table['b_id'] == j[1], 'count_south'].sum() /total_count_south\n",
    "        consistency_south=float(np.log2(cooc_probability / (marginal_a_id_probability * marginal_b_id_probability))/np.log2(1 / cooc_probability))\n",
    "        south_table.loc[(south_table['a_id'] == j[0]) & (south_table['b_id'] == j[1]), 'south_consistency'] = consistency_south\n",
    "\n",
    "    east_table['east_consistency'] = 0 \n",
    "    total_count_east = east_table['count_east'].sum()\n",
    "    for i, j in east_table.iterrows(): \n",
    "        cooc_probability= east_table.loc[(east_table['a_id'] == j[0]) & (east_table['b_id'] == j[1]),'count_east'].sum() / total_count_east\n",
    "        marginal_a_id_probability= east_table.loc[east_table['a_id'] == j[0], 'count_east'].sum() / total_count_east\n",
    "        marginal_b_id_probability= east_table.loc[east_table['b_id'] == j[1], 'count_east'].sum() /total_count_east\n",
    "        consistency_east=float(np.log2(cooc_probability / (marginal_a_id_probability * marginal_b_id_probability))/np.log2(1 / cooc_probability))\n",
    "        east_table.loc[(east_table['a_id'] == j[0]) & (east_table['b_id'] == j[1]), 'east_consistency'] = consistency_east\n",
    "\n",
    "    west_table['west_consistency'] = 0 \n",
    "    total_count_west = west_table['count_west'].sum()\n",
    "    for i, j in west_table.iterrows(): \n",
    "        cooc_probability= west_table.loc[(west_table['a_id'] == j[0]) & (west_table['b_id'] == j[1]),'count_west'].sum() / total_count_west\n",
    "        marginal_a_id_probability= west_table.loc[west_table['a_id'] == j[0], 'count_west'].sum() / total_count_west\n",
    "        marginal_b_id_probability= west_table.loc[west_table['b_id'] == j[1], 'count_west'].sum() /total_count_west\n",
    "        consistency_west=float(np.log2(cooc_probability / (marginal_a_id_probability * marginal_b_id_probability))/np.log2(1 / cooc_probability))\n",
    "        west_table.loc[(west_table['a_id'] == j[0]) & (west_table['b_id'] == j[1]), 'west_consistency'] = consistency_west\n",
    "\n",
    "    print(\"Consistencies Added. Time elapsed: {} seconds\".format(time.time()-time_start))"
   ]
  },
  {
   "cell_type": "markdown",
   "metadata": {},
   "source": [
    "Other Formula"
   ]
  },
  {
   "cell_type": "code",
   "execution_count": 57,
   "metadata": {},
   "outputs": [],
   "source": [
    "if formula=='Other':\n",
    "    time_start = time.time()\n",
    "    north_table['north_consistency'] = 0 \n",
    "    for i, j in north_table.iterrows(): \n",
    "        plr=north_table.loc[north_table['a_id'] == j[0], 'count_north'].sum()\n",
    "        pll=north_table.loc[north_table['b_id'] == j[1], 'count_north'].sum()\n",
    "        pt=north_table.loc[(north_table['a_id'] == j[0]) & (north_table['b_id'] == j[1]),'count_north'].sum()\n",
    "        consistency=math.log(pt/(plr*pll))\n",
    "        north_table.loc[(north_table['a_id'] == j[0]) & (north_table['b_id'] == j[1]), 'north_consistency'] = consistency\n",
    "\n",
    "    south_table['south_consistency'] = 0 \n",
    "    for i, j in south_table.iterrows(): \n",
    "        plr=south_table.loc[south_table['a_id'] == j[0], 'count_south'].sum()\n",
    "        pll=south_table.loc[south_table['b_id'] == j[1], 'count_south'].sum()\n",
    "        pt=south_table.loc[(south_table['a_id'] == j[0]) & (south_table['b_id'] == j[1]),'count_south'].sum()\n",
    "        consistency=math.log(pt/(plr*pll))\n",
    "        south_table.loc[(south_table['a_id'] == j[0]) & (south_table['b_id'] == j[1]), 'south_consistency'] = consistency\n",
    "\n",
    "    east_table['east_consistency'] = 0 \n",
    "    for i, j in east_table.iterrows(): \n",
    "        plr=east_table.loc[east_table['a_id'] == j[0], 'count_east'].sum()\n",
    "        pll=east_table.loc[east_table['b_id'] == j[1], 'count_east'].sum()\n",
    "        pt=east_table.loc[(east_table['a_id'] == j[0]) & (east_table['b_id'] == j[1]),'count_east'].sum()\n",
    "        consistency=math.log(pt/(plr*pll))\n",
    "        east_table.loc[(east_table['a_id'] == j[0]) & (east_table['b_id'] == j[1]), 'east_consistency'] = consistency\n",
    "\n",
    "    west_table['west_consistency'] = 0 \n",
    "    for i, j in west_table.iterrows(): \n",
    "        plr=west_table.loc[west_table['a_id'] == j[0], 'count_west'].sum()\n",
    "        pll=west_table.loc[west_table['b_id'] == j[1], 'count_west'].sum()\n",
    "        pt=west_table.loc[(west_table['a_id'] == j[0]) & (west_table['b_id'] == j[1]),'count_west'].sum()\n",
    "        consistency=math.log(pt/(plr*pll))\n",
    "        west_table.loc[(west_table['a_id'] == j[0]) & (west_table['b_id'] == j[1]), 'west_consistency'] = consistency\n",
    "\n",
    "    print(\"Consistencies Added. Time elapsed: {} seconds\".format(time.time()-time_start))"
   ]
  },
  {
   "cell_type": "code",
   "execution_count": 58,
   "metadata": {
    "scrolled": true
   },
   "outputs": [
    {
     "data": {
      "text/html": [
       "<div>\n",
       "<style scoped>\n",
       "    .dataframe tbody tr th:only-of-type {\n",
       "        vertical-align: middle;\n",
       "    }\n",
       "\n",
       "    .dataframe tbody tr th {\n",
       "        vertical-align: top;\n",
       "    }\n",
       "\n",
       "    .dataframe thead th {\n",
       "        text-align: right;\n",
       "    }\n",
       "</style>\n",
       "<table border=\"1\" class=\"dataframe\">\n",
       "  <thead>\n",
       "    <tr style=\"text-align: right;\">\n",
       "      <th></th>\n",
       "      <th>a_id</th>\n",
       "      <th>b_id</th>\n",
       "      <th>count_east</th>\n",
       "      <th>east_consistency</th>\n",
       "    </tr>\n",
       "  </thead>\n",
       "  <tbody>\n",
       "    <tr>\n",
       "      <th>0</th>\n",
       "      <td>2</td>\n",
       "      <td>2</td>\n",
       "      <td>7483.4</td>\n",
       "      <td>-0.005078</td>\n",
       "    </tr>\n",
       "    <tr>\n",
       "      <th>1</th>\n",
       "      <td>2</td>\n",
       "      <td>18</td>\n",
       "      <td>980.3</td>\n",
       "      <td>0.010353</td>\n",
       "    </tr>\n",
       "    <tr>\n",
       "      <th>2</th>\n",
       "      <td>18</td>\n",
       "      <td>2</td>\n",
       "      <td>882.5</td>\n",
       "      <td>-0.001891</td>\n",
       "    </tr>\n",
       "    <tr>\n",
       "      <th>3</th>\n",
       "      <td>2</td>\n",
       "      <td>50</td>\n",
       "      <td>878.5</td>\n",
       "      <td>0.016848</td>\n",
       "    </tr>\n",
       "    <tr>\n",
       "      <th>4</th>\n",
       "      <td>50</td>\n",
       "      <td>2</td>\n",
       "      <td>833.7</td>\n",
       "      <td>0.014526</td>\n",
       "    </tr>\n",
       "    <tr>\n",
       "      <th>...</th>\n",
       "      <td>...</td>\n",
       "      <td>...</td>\n",
       "      <td>...</td>\n",
       "      <td>...</td>\n",
       "    </tr>\n",
       "    <tr>\n",
       "      <th>11985</th>\n",
       "      <td>101</td>\n",
       "      <td>13</td>\n",
       "      <td>0.2</td>\n",
       "      <td>-0.055396</td>\n",
       "    </tr>\n",
       "    <tr>\n",
       "      <th>11986</th>\n",
       "      <td>128</td>\n",
       "      <td>137</td>\n",
       "      <td>0.2</td>\n",
       "      <td>-0.079107</td>\n",
       "    </tr>\n",
       "    <tr>\n",
       "      <th>11987</th>\n",
       "      <td>134</td>\n",
       "      <td>139</td>\n",
       "      <td>0.2</td>\n",
       "      <td>-0.088910</td>\n",
       "    </tr>\n",
       "    <tr>\n",
       "      <th>11988</th>\n",
       "      <td>122</td>\n",
       "      <td>37</td>\n",
       "      <td>0.2</td>\n",
       "      <td>-0.082641</td>\n",
       "    </tr>\n",
       "    <tr>\n",
       "      <th>11989</th>\n",
       "      <td>82</td>\n",
       "      <td>108</td>\n",
       "      <td>0.2</td>\n",
       "      <td>-0.066080</td>\n",
       "    </tr>\n",
       "  </tbody>\n",
       "</table>\n",
       "<p>11990 rows × 4 columns</p>\n",
       "</div>"
      ],
      "text/plain": [
       "       a_id  b_id  count_east  east_consistency\n",
       "0         2     2      7483.4         -0.005078\n",
       "1         2    18       980.3          0.010353\n",
       "2        18     2       882.5         -0.001891\n",
       "3         2    50       878.5          0.016848\n",
       "4        50     2       833.7          0.014526\n",
       "...     ...   ...         ...               ...\n",
       "11985   101    13         0.2         -0.055396\n",
       "11986   128   137         0.2         -0.079107\n",
       "11987   134   139         0.2         -0.088910\n",
       "11988   122    37         0.2         -0.082641\n",
       "11989    82   108         0.2         -0.066080\n",
       "\n",
       "[11990 rows x 4 columns]"
      ]
     },
     "execution_count": 58,
     "metadata": {},
     "output_type": "execute_result"
    }
   ],
   "source": [
    "east_table"
   ]
  },
  {
   "cell_type": "code",
   "execution_count": 59,
   "metadata": {
    "scrolled": true
   },
   "outputs": [
    {
     "data": {
      "image/png": "[encoded data removed]",
      "text/plain": [
       "<Figure size 432x288 with 1 Axes>"
      ]
     },
     "metadata": {
      "needs_background": "light"
     },
     "output_type": "display_data"
    }
   ],
   "source": [
    "x1=north_table[\"north_consistency\"].plot.hist(bins=100)\n",
    "plt.savefig('northhist.png')"
   ]
  },
  {
   "cell_type": "code",
   "execution_count": 60,
   "metadata": {},
   "outputs": [
    {
     "name": "stdout",
     "output_type": "stream",
     "text": [
      "Stage 5 Completed Succesfully!\n"
     ]
    }
   ],
   "source": [
    "#OUTPUT----------------------------------Remove temp for final-----------------\n",
    "north_table.to_csv('north_table'+load_path+'temp.csv', index=False) \n",
    "south_table.to_csv('south_table'+load_path+'temp.csv', index=False) \n",
    "east_table.to_csv('east_table'+load_path+'temp.csv', index=False) \n",
    "west_table.to_csv('west_table'+load_path+'temp.csv', index=False) \n",
    "print(\"Stage 5 Completed Succesfully!\")\n",
    "#OUTPUT-----------------------------------------------------------------------"
   ]
  },
  {
   "cell_type": "code",
   "execution_count": 8,
   "metadata": {},
   "outputs": [],
   "source": [
    "#Reloading Directional Tables\n",
    "north_table = pd.read_csv(\"north_table_final.csv\") \n",
    "south_table = pd.read_csv(\"south_table_final.csv\") \n",
    "east_table = pd.read_csv(\"east_table_final.csv\") \n",
    "west_table = pd.read_csv(\"west_table_final.csv\") "
   ]
  }
 ],
 "metadata": {
  "kernelspec": {
   "display_name": "Python 3",
   "language": "python",
   "name": "python3"
  },
  "language_info": {
   "codemirror_mode": {
    "name": "ipython",
    "version": 3
   },
   "file_extension": ".py",
   "mimetype": "text/x-python",
   "name": "python",
   "nbconvert_exporter": "python",
   "pygments_lexer": "ipython3",
   "version": "3.7.7"
  }
 },
 "nbformat": 4,
 "nbformat_minor": 4
}
